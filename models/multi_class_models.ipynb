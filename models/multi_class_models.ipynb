{
 "cells": [
  {
   "cell_type": "markdown",
   "metadata": {
    "collapsed": true
   },
   "source": [
    "Let's import everything necessary to get ready for classification:"
   ]
  },
  {
   "cell_type": "code",
   "execution_count": 8,
   "metadata": {},
   "outputs": [
    {
     "name": "stdout",
     "output_type": "stream",
     "text": [
      "Populating the interactive namespace from numpy and matplotlib\n1400\n600\n1400\n600\n"
     ]
    }
   ],
   "source": [
    "%pylab inline\n",
    "import pandas as pd\n",
    "import numpy as np\n",
    "from sklearn import model_selection\n",
    "import matplotlib.pyplot as plt\n",
    "from sklearn.preprocessing import StandardScaler\n",
    "from sklearn.linear_model import LinearRegression\n",
    "from sklearn.linear_model import LogisticRegression\n",
    "from sklearn.metrics import accuracy_score, roc_auc_score\n",
    "from sklearn.metrics import roc_curve, precision_recall_curve\n",
    "from sklearn.ensemble import RandomForestClassifier\n",
    "from sklearn.tree import DecisionTreeClassifier\n",
    "from sklearn.ensemble import BaggingClassifier\n",
    "from sklearn.neighbors import KNeighborsClassifier\n",
    "from sklearn.ensemble import RandomForestClassifier\n",
    "import time\n",
    "\n",
    "train = pd.read_csv('train.csv')\n",
    "\n",
    "y = train.price_range\n",
    "\n",
    "X = train.drop('price_range', axis=1)\n",
    "\n",
    "divide_seed = np.random.randint(1, 100)\n",
    "\n",
    "X_train, X_test, y_train, y_test = model_selection.train_test_split(\n",
    "    X, y, test_size=0.3, random_state=divide_seed)\n",
    "\n",
    "scaler = StandardScaler()\n",
    "\n",
    "scaler.fit(X_train)\n",
    "X_train = scaler.transform(X_train)\n",
    "\n",
    "scaler.fit(X_test)\n",
    "X_test = scaler.transform(X_test)\n",
    "\n",
    "print(len(X_train))\n",
    "print(len(X_test))\n",
    "print(len(y_train))\n",
    "print(len(y_test))"
   ]
  },
  {
   "cell_type": "markdown",
   "metadata": {},
   "source": [
    "Let's start with a linear regression:"
   ]
  },
  {
   "cell_type": "code",
   "execution_count": 9,
   "metadata": {},
   "outputs": [
    {
     "name": "stdout",
     "output_type": "stream",
     "text": [
      "Test result: 0.9199213823065907\nTrain result: 0.9166628312925383\n"
     ]
    }
   ],
   "source": [
    "lr = LinearRegression()\n",
    "\n",
    "lr.fit(X_train, y_train)\n",
    "\n",
    "prediction_lr = lr.predict(X_train)\n",
    "\n",
    "print(\"Test result:\", lr.score(X_test, y_test))\n",
    "\n",
    "print(\"Train result:\", lr.score(X_train, y_train))"
   ]
  },
  {
   "cell_type": "markdown",
   "metadata": {},
   "source": [
    "Now, let's continue with kNN:"
   ]
  },
  {
   "cell_type": "code",
   "execution_count": 12,
   "metadata": {},
   "outputs": [
    {
     "name": "stdout",
     "output_type": "stream",
     "text": [
      "Predicted with  20  neighbours\n"
     ]
    },
    {
     "name": "stdout",
     "output_type": "stream",
     "text": [
      "Predicted with  40  neighbours\n"
     ]
    },
    {
     "name": "stdout",
     "output_type": "stream",
     "text": [
      "Predicted with  60  neighbours\n"
     ]
    },
    {
     "name": "stdout",
     "output_type": "stream",
     "text": [
      "Predicted with  80  neighbours\n"
     ]
    },
    {
     "name": "stdout",
     "output_type": "stream",
     "text": [
      "Predicted with  100  neighbours\n"
     ]
    }
   ],
   "source": [
    "list_of_predictions_knn = list()\n",
    "list_of_test_results_knn = list()\n",
    "list_of_train_results_knn = list()\n",
    "\n",
    "for i in range(1, 101):\n",
    "    knn = KNeighborsClassifier(n_neighbors=i)\n",
    "    knn.fit(X_train, y_train)\n",
    "    list_of_predictions_knn.append(knn.predict(X_train))\n",
    "    list_of_test_results_knn.append(knn.score(X_test, y_test))\n",
    "    list_of_train_results_knn.append(knn.score(X_train, y_train))\n",
    "    if i % 20 == 0:\n",
    "        print(\"Predicted with \", i, \" neighbours\")"
   ]
  },
  {
   "cell_type": "code",
   "execution_count": 13,
   "metadata": {},
   "outputs": [
    {
     "name": "stdout",
     "output_type": "stream",
     "text": [
      "Max test result:  0.65  takes  74  trees\n"
     ]
    },
    {
     "data": {
      "text/plain": [
       "<matplotlib.collections.PathCollection at 0x1085e5898>"
      ]
     },
     "execution_count": 13,
     "metadata": {},
     "output_type": "execute_result"
    },
    {
     "data": {
      "image/png": "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\n",
      "text/plain": [
       "<matplotlib.figure.Figure at 0x1028d6e10>"
      ]
     },
     "metadata": {},
     "output_type": "display_data"
    }
   ],
   "source": [
    "print(\"Max test result: \", max(list_of_test_results_knn), \n",
    "      \" takes \", (list_of_test_results_knn.index(max(list_of_test_results_knn))+1), \" trees\")\n",
    "\n",
    "plt.scatter(x=list((range(1, 101))), y=list_of_test_results_knn)"
   ]
  },
  {
   "cell_type": "markdown",
   "metadata": {},
   "source": [
    "Next classifier we'll try to use is Logistic Regression:"
   ]
  },
  {
   "cell_type": "code",
   "execution_count": 19,
   "metadata": {},
   "outputs": [
    {
     "name": "stdout",
     "output_type": "stream",
     "text": [
      "Train result: 0.8464285714285714\nAccuracy: 0.795\n######################################################\n"
     ]
    }
   ],
   "source": [
    "logistic_model = LogisticRegression()\n",
    "\n",
    "logistic_model.fit(X_train, y_train)\n",
    "\n",
    "prediction = logistic_model.predict(X_test)\n",
    "\n",
    "#print(\"Test result:\", logistic_model.score(X_test, y_test))\n",
    "\n",
    "print(\"Train result:\", logistic_model.score(X_train, y_train))\n",
    "\n",
    "print(\"Accuracy:\", accuracy_score(y_test, prediction))\n",
    "\n",
    "#print(\"AUC-ROC:\", roc_auc_score(y_test, prediction))\n",
    "\n",
    "print(\"######################################################\")\n",
    "logistic_model_proba = LogisticRegression()\n",
    "\n",
    "logistic_model_proba.fit(X_train, y_train)\n",
    "\n",
    "prediction_proba = logistic_model.predict_proba(X_test)"
   ]
  },
  {
   "cell_type": "markdown",
   "metadata": {},
   "source": [
    "Next step we'll take is DecisionTree model:"
   ]
  },
  {
   "cell_type": "code",
   "execution_count": 22,
   "metadata": {},
   "outputs": [
    {
     "name": "stdout",
     "output_type": "stream",
     "text": [
      "Test result (accuracy): 0.8516666666666667\nAccuracy: 0.8516666666666667\n######################################################\n"
     ]
    }
   ],
   "source": [
    "decision_tree = DecisionTreeClassifier(random_state=divide_seed)\n",
    "\n",
    "decision_tree.fit(X_train, y_train)\n",
    "\n",
    "prediction_tree = decision_tree.predict(X_test)\n",
    "\n",
    "print(\"Test result (accuracy):\", decision_tree.score(X_test, y_test))\n",
    "\n",
    "print(\"Accuracy:\", accuracy_score(y_test, prediction_tree))\n",
    "\n",
    "print(\"######################################################\")\n",
    "decision_tree_proba = DecisionTreeClassifier(random_state=divide_seed)\n",
    "\n",
    "decision_tree_proba.fit(X_train, y_train)\n",
    "\n",
    "prediction_tree_proba = decision_tree_proba.predict_proba(X_test)[:, 1]"
   ]
  },
  {
   "cell_type": "markdown",
   "metadata": {},
   "source": [
    "This accuracy is not enough to accept this decision tree model, so, let's try to use bagging to try to improve it."
   ]
  },
  {
   "cell_type": "code",
   "execution_count": 33,
   "metadata": {},
   "outputs": [
    {
     "name": "stdout",
     "output_type": "stream",
     "text": [
      "######################################################\n"
     ]
    },
    {
     "name": "stdout",
     "output_type": "stream",
     "text": [
      "Accuracy: 0.43333333333333335\n"
     ]
    }
   ],
   "source": [
    "bagging = BaggingClassifier(base_estimator=DecisionTreeClassifier(random_state=divide_seed), n_estimators=100)\n",
    "\n",
    "bagging.fit(X_train, y_train)\n",
    "\n",
    "prediction_bagging = bagging.predict(X_test)\n",
    "\n",
    "print(\"######################################################\")\n",
    "bagging_proba = BaggingClassifier(base_estimator=DecisionTreeClassifier(random_state=divide_seed), n_estimators=100)\n",
    "\n",
    "bagging_proba.fit(X_train, y_train)\n",
    "\n",
    "prediction_bagging_proba = bagging_proba.predict_proba(X_test)[:, 1]\n",
    "\n",
    "print(\"Accuracy:\", accuracy_score(y_test, prediction_bagging_proba > 0.5))"
   ]
  },
  {
   "cell_type": "code",
   "execution_count": 35,
   "metadata": {},
   "outputs": [
    {
     "name": "stdout",
     "output_type": "stream",
     "text": [
      "Accuracy: 0.43666666666666665\n"
     ]
    }
   ],
   "source": [
    "new_predicted_tree = 0\n",
    "new_predicted_tree_proba = np.zeros(X_test.shape[0])\n",
    "\n",
    "\n",
    "for k in range(0, 100):\n",
    "    i_new = np.random.randint(0, X_train.shape[0], int(2000*0.7))\n",
    "    tree_class = DecisionTreeClassifier()\n",
    "    \n",
    "    tree_class.fit(X_train[i_new], array(y_train)[i_new])\n",
    "    \n",
    "    new_predicted_tree_proba += tree_class.predict_proba(X_test)[:, 1]\n",
    "    \n",
    "    new_predicted_tree += tree_class.predict(X_test)\n",
    "    new_predicted_tree = np.divide(new_predicted_tree, 100).astype('int8')\n",
    "    \n",
    "new_predicted_tree_proba = new_predicted_tree_proba / 100\n",
    "    \n",
    "\n",
    "print(\"Accuracy:\", accuracy_score(y_test, new_predicted_tree_proba > 0.5))"
   ]
  },
  {
   "cell_type": "markdown",
   "metadata": {},
   "source": [
    "Still bad, need to try random forest."
   ]
  },
  {
   "cell_type": "code",
   "execution_count": 38,
   "metadata": {},
   "outputs": [
    {
     "name": "stdout",
     "output_type": "stream",
     "text": [
      "Number of trees: 50\nPrediction completed by 5.0 %\nTook  1.1244707107543945  seconds\n--------------------\n"
     ]
    },
    {
     "name": "stdout",
     "output_type": "stream",
     "text": [
      "Number of trees: 150\nPrediction completed by 15.0 %\nTook  6.452134609222412  seconds\n--------------------\n"
     ]
    },
    {
     "name": "stdout",
     "output_type": "stream",
     "text": [
      "Number of trees: 250\nPrediction completed by 25.0 %\nTook  16.21289873123169  seconds\n--------------------\n"
     ]
    },
    {
     "name": "stdout",
     "output_type": "stream",
     "text": [
      "Number of trees: 350\nPrediction completed by 35.0 %\nTook  27.84582281112671  seconds\n--------------------\n"
     ]
    },
    {
     "name": "stdout",
     "output_type": "stream",
     "text": [
      "Number of trees: 450\nPrediction completed by 45.0 %\nTook  43.706652879714966  seconds\n--------------------\n"
     ]
    },
    {
     "name": "stdout",
     "output_type": "stream",
     "text": [
      "Number of trees: 550\nPrediction completed by 55.0 %\nTook  63.87005567550659  seconds\n--------------------\n"
     ]
    },
    {
     "name": "stdout",
     "output_type": "stream",
     "text": [
      "Number of trees: 650\nPrediction completed by 65.0 %\nTook  86.38479399681091  seconds\n--------------------\n"
     ]
    },
    {
     "name": "stdout",
     "output_type": "stream",
     "text": [
      "Number of trees: 750\nPrediction completed by 75.0 %\nTook  113.22488784790039  seconds\n--------------------\n"
     ]
    },
    {
     "name": "stdout",
     "output_type": "stream",
     "text": [
      "Number of trees: 850\nPrediction completed by 85.0 %\nTook  142.7036998271942  seconds\n--------------------\n"
     ]
    },
    {
     "name": "stdout",
     "output_type": "stream",
     "text": [
      "Number of trees: 950\nPrediction completed by 95.0 %\nTook  177.45029473304749  seconds\n--------------------\n"
     ]
    },
    {
     "name": "stdout",
     "output_type": "stream",
     "text": [
      "Prediction completed by 100%\nPrediction took  374.46624064445496  seconds\n"
     ]
    }
   ],
   "source": [
    "test_forest_results = list()\n",
    "train_forest_results = list()\n",
    "accuracy_forest_results = list()\n",
    "auc_roc_forest_results = list()\n",
    "time_list = list()\n",
    "\n",
    "accuracy_forest_results_proba = list()\n",
    "auc_roc_forest_results_proba = list()\n",
    "\n",
    "start = time.time()\n",
    "cur_time = start\n",
    "\n",
    "for j in range(10, 1010, 10):\n",
    "    \n",
    "    decision_forest = RandomForestClassifier(random_state=divide_seed, n_estimators=j)\n",
    "    decision_forest_proba = RandomForestClassifier(random_state=divide_seed, n_estimators=j)\n",
    "\n",
    "    decision_forest.fit(X_train, y_train)\n",
    "    \n",
    "    decision_forest_proba.fit(X_train, y_train)\n",
    "\n",
    "    prediction_forest = decision_forest.predict(X_test)\n",
    "    \n",
    "    prediction_forest_pr = decision_forest_proba.predict_proba(X_test)[:, 1]\n",
    "\n",
    "    test_forest_results.append(decision_forest.score(X_test, y_test))\n",
    "\n",
    "    train_forest_results.append(decision_forest.score(X_train, y_train))\n",
    "\n",
    "    accuracy_forest_results.append(accuracy_score(y_test, prediction_forest))\n",
    "    \n",
    "    accuracy_forest_results_proba.append(accuracy_score(y_test, prediction_forest_pr > 0.5))\n",
    "\n",
    "    if j % 50 == 0:\n",
    "        cur_time = time.time() - cur_time\n",
    "        if j % 100 != 0:\n",
    "            time_list.append(cur_time)\n",
    "            print('Number of trees:', j)\n",
    "            print(\"Prediction completed by\", j/10, \"%\")\n",
    "            print(\"Took \", cur_time, \" seconds\")\n",
    "            print(\"--------------------\")\n",
    "print(\"Prediction completed by 100%\")\n",
    "finish = time.time() - start\n",
    "\n",
    "print(\"Prediction took \", finish, \" seconds\")"
   ]
  },
  {
   "cell_type": "code",
   "execution_count": 42,
   "metadata": {},
   "outputs": [
    {
     "name": "stdout",
     "output_type": "stream",
     "text": [
      "Max test result:  0.885  takes  250  trees\nMax accuracy result:  0.885  takes  250  trees\nMax accuracy result with proba:  0.385  takes  250  trees\n"
     ]
    },
    {
     "data": {
      "image/png": "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
